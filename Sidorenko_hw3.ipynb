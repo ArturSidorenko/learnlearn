{
 "cells": [
  {
   "cell_type": "markdown",
   "metadata": {},
   "source": [
    "# Алгоритмы интеллектуальной обработки больших объемов данных\n",
    "## Домашнее задание №3: Линейные модели\n"
   ]
  },
  {
   "cell_type": "markdown",
   "metadata": {},
   "source": [
    "###### <hr\\>\n",
    "**Общая информация**\n",
    "\n",
    "**Срок сдачи:** 18 апреля 2018, 06:00 <br\\>\n",
    "**Штраф за опоздание:** -3 балла после 06:00 18 апреля, -6 баллов после 06:00 25 апреля, -9 баллов после 06:00 2 мая\n",
    "\n",
    "При отправлении ДЗ указывайте фамилию в названии файла<br\\>\n",
    "\n",
    "Используйте данный Ipython Notebook при оформлении домашнего задания.\n",
    "\n",
    "**Штрафные баллы:**\n",
    "\n",
    "1. Невыполнение PEP8 -1 балл\n",
    "2. Отсутствие фамилии в имени скрипта (скрипт должен называться по аналогии со stroykova_hw2.ipynb) -1 балл\n",
    "3. Все строчки должны быть выполнены. Нужно, чтобы output команды можно было увидеть уже в git'е. В противном случае -1 балл\n",
    "4. При оформлении ДЗ нужно пользоваться данным файлом в качестве шаблона. Не нужно удалять и видоизменять написанный код и текст. В противном случае -1 балл\n",
    "<hr\\>"
   ]
  },
  {
   "cell_type": "code",
   "execution_count": 2,
   "metadata": {},
   "outputs": [],
   "source": [
    "import pandas as pd\n",
    "import numpy as np\n",
    "import matplotlib.pyplot as plt\n",
    "from sklearn.metrics import accuracy_score, f1_score\n",
    "\n",
    "%matplotlib inline\n",
    "%load_ext pycodestyle_magic\n",
    "\n",
    "plt.style.use('ggplot')\n",
    "plt.rcParams['figure.figsize'] = (12,5)"
   ]
  },
  {
   "cell_type": "markdown",
   "metadata": {},
   "source": [
    "# Определям, что вам досталось"
   ]
  },
  {
   "cell_type": "markdown",
   "metadata": {},
   "source": [
    "<center><img src='https://static1.squarespace.com/static/571a6e39b6aa608067028725/t/577988518419c2d62fb5922f/1467582555915/'></center>"
   ]
  },
  {
   "cell_type": "markdown",
   "metadata": {},
   "source": [
    "Укажите свою фамилию на русском языке в поле ниже."
   ]
  },
  {
   "cell_type": "code",
   "execution_count": 3,
   "metadata": {
    "scrolled": true
   },
   "outputs": [
    {
     "name": "stdout",
     "output_type": "stream",
     "text": [
      "Имплементируйте обучение логистической регрессии с L1 регуляризацией с помощью метода  Stochastic Gradient Descent (SGD)\n"
     ]
    }
   ],
   "source": [
    "USER_NAME = u\"Сидоренко\".lower()\n",
    "REGULARIZATIONS = [\"L1\", \"L2\"]\n",
    "ALGORITHM = [\"\", \"Mini Batch\"]\n",
    "\n",
    "print \"Имплементируйте обучение логистической регрессии с %s регуляризацией с помощью метода %s Stochastic Gradient Descent (SGD)\"\\\n",
    "% (\n",
    "    REGULARIZATIONS[hash(USER_NAME) % 2],\n",
    "    ALGORITHM[hash(USER_NAME[::-1]) % 2]\n",
    ")"
   ]
  },
  {
   "cell_type": "markdown",
   "metadata": {},
   "source": [
    "#### Замечания\n",
    "* В SGD градиент расчитывается по одному случайному объекту, т.е. в алгоритме надо\n",
    "    * Перемешать выборку\n",
    "    * Посчтитать градиент на одном объекте\n",
    "    * Сделать шаг спуска\n",
    "* В Mini Batch SGD - по подвыборке объектов т.е в алгоритме надо\n",
    "    * Перемешать выборку\n",
    "    * Разбить на части (примерно) одинакового размера - мини батчи\n",
    "    * Почитать градиент по мини батчам\n",
    "    * Сделать шаг спуска\n",
    "* Сделайте убывающую скорость спуска, например `alpha/n_epoch` или `alpha/n_iter` или `alpha/n_batch` или ...\n",
    "* Для отладки работы алгоритма, реализуйте возможность сохранения или вывода ошибки модели после очередной итерации/батча/эпохи.\n",
    "* Правило останова - максимальное количество эпох\n",
    "    \n",
    "Эпохой в SGD и MB-SGD называется один проход по **всем** объектам в обучающей выборке (тем или иным способом)"
   ]
  },
  {
   "cell_type": "markdown",
   "metadata": {},
   "source": [
    "### Примечание для случая L1-регуляризации:\n",
    "\n",
    "При расчете производной по функции потерь\n",
    "$$ L(w_0,w_1,\\dots) = - \\frac{1}{N}\\left[\\sum_i \\log(\\sigma(y^{(i)} g(x^{(i)}))\\right] + \\frac{1}{C}\\sum_{j=1}^{m}|w_j| $$\n",
    "могут возникнуть сомнения по поводу производной части с модулями. \n",
    "\n",
    "Вам на выбор предлагаются следующией варианты:\n",
    "* Считать субградиент $\\partial|w_j| = sign(w_j)$ (проще, но с большой вероятностью не приведет к занулению коэффициентов)\n",
    "* Метод SGD-Clipping из [статьи](https://www.aclweb.org/anthology/P/P09/P09-1054.pdf) - раздел 3.1, страница 479, правая колонка снизу (чуть сложнее, но зато должно занулять)\n",
    "* Cumulative Penalty из той же [статьи](https://www.aclweb.org/anthology/P/P09/P09-1054.pdf) - раздел 3.2"
   ]
  },
  {
   "cell_type": "markdown",
   "metadata": {},
   "source": [
    "# Реализация модели"
   ]
  },
  {
   "cell_type": "markdown",
   "metadata": {},
   "source": [
    "## Вывод правила обновления весов (1 балл)\n",
    "\n",
    "Выведите правило обновления весов на каждом шаге алгоритма. Иными словами, посчитайте производную (градиент) функции потерь с регуляризацией. Формулы надо оформлять в формате LaTeX.\n",
    "\n",
    "$$ \\frac{\\partial L}{\\partial w_i} = - \\frac{1}{N} \\sum \\limits_{j}^{} \\left[ \\left( 1 - \\sigma\\left( y^{(j)}g(x^{(j)})\\right) \\right) y^{(j)} x_i^{(j)} \\right] + \\frac{1}{C}sign(w_i) $$  $$ i > 0 $$\n",
    "\n",
    "$$ \\frac{\\partial L}{\\partial w_0} = - \\frac{1}{N} \\sum \\limits_{j}^{} \\left[ \\left( 1 - \\sigma\\left( y^{(j)}g(x^{(j)})\\right) \\right) y^{(j)} \\right] + \\frac{1}{C}sign(w_0) $$  \n"
   ]
  },
  {
   "cell_type": "markdown",
   "metadata": {},
   "source": [
    "## Имплементация (5 баллов)"
   ]
  },
  {
   "cell_type": "code",
   "execution_count": 13,
   "metadata": {},
   "outputs": [],
   "source": [
    "%%pycodestyle\n",
    "\n",
    "from sklearn.base import BaseEstimator, ClassifierMixin\n",
    "import random\n",
    "\n",
    "\n",
    "class MySGDClassifier(BaseEstimator, ClassifierMixin):\n",
    "\n",
    "    def __sigma__(self, z):\n",
    "        return 1.0 / (1 + np.exp(-z))\n",
    "\n",
    "    def __init__(self, C=1, alpha=0.01, max_epoch=10):\n",
    "\n",
    "        self.C = C\n",
    "        self.alpha = alpha\n",
    "        self.max_epoch = max_epoch\n",
    "\n",
    "    def __g__(self, x, w, w0):\n",
    "\n",
    "        return w0 + (x * w).sum()\n",
    "\n",
    "    def __magic_coef__(self, x, y, w, w0):\n",
    "\n",
    "        return -(1 - self.__sigma__(y * self.__g__(x, w, w0))) * y\n",
    "\n",
    "    def __looses__(self, X, y, w, w0):\n",
    "\n",
    "        ans = 0\n",
    "        for i in range(X.shape[0]):\n",
    "            ans += np.log(self.__sigma__(self.__g__(X[i], w, w0)\n",
    "                          * y[i]))\n",
    "        return ans\n",
    "\n",
    "    def give_looses(self):\n",
    "        return self.looses\n",
    "\n",
    "    def fit(self, X, y=None):\n",
    "\n",
    "        amount = X.shape[0]\n",
    "        self.dim = X.shape[1]\n",
    "\n",
    "        # I should change y-vector\n",
    "\n",
    "        for i in range(y.shape[0]):\n",
    "            if y[i] != 1:\n",
    "                y[i] = -1\n",
    "\n",
    "        w0 = 0.0\n",
    "        w = np.zeros(self.dim)\n",
    "        w0_12 = 0.0\n",
    "        w_12 = np.zeros(self.dim)\n",
    "\n",
    "        # how to innitialise w ????????????? Let them be zeros\n",
    "\n",
    "        for t in range(self.max_epoch):\n",
    "            random.shuffle(X)\n",
    "            for u in range(X.shape[0]):\n",
    "                magic_coef = self.__magic_coef__(X[u], y[u], w, w0)\n",
    "                x_cur = X[u]\n",
    "                step = magic_coef * self.alpha / amount\n",
    "                w0_12 = w0 + 2 * step\n",
    "                for j in range(self.dim):\n",
    "                    w_12[j] = w[j] - step * x_cur[j]\n",
    "                for j in range(self.dim):\n",
    "                    if w_12[j] > 0:\n",
    "                        w[j] = max(0, w_12[j] - 1.0 / self.C / amount\n",
    "                                   * self.alpha)\n",
    "                    else:\n",
    "                        w[j] = min(0, w_12[j] + 1.0 / self.C / amount\n",
    "                                   * self.alpha)\n",
    "                if w0_12 > 0:\n",
    "                    w0 = max(0, w0_12 - 1.0 / self.C / amount\n",
    "                             * self.alpha)\n",
    "                else:\n",
    "                    w0 = min(0, w0_12 + 1.0 / self.C / amount\n",
    "                             * self.alpha)\n",
    "        self.w = w\n",
    "        self.w0 = w0\n",
    "        self.looses = self.__looses__(X, y, w, w0)\n",
    "        return self\n",
    "\n",
    "    def partial_fit(self, X, y=None):\n",
    "\n",
    "        return self\n",
    "\n",
    "    def predict(self, X):\n",
    "\n",
    "        y_hat = []\n",
    "        for i in range(X.shape[0]):\n",
    "            cur = self.__g__(X[i], self.w, self.w0)\n",
    "            if cur > 0:\n",
    "                y_hat.append(1)\n",
    "            else:\n",
    "                y_hat.append(0)\n",
    "\n",
    "        return y_hat\n",
    "\n",
    "    def predict_proba(self, X):\n",
    "\n",
    "        y_hat_proba = np.zeros(X.shape[0], 2)\n",
    "        for i in range(X.shape[0]):\n",
    "            y_hat_proba[i][0] = self.__sigma__(\n",
    "                self.__g__(X[i], self.w, self.w0))\n",
    "            y_hat_proba[i][1] = 1 - y_hat_proba[i][0]\n",
    "        return y_hat_proba\n",
    "\n",
    "    def give_weights(self):\n",
    "        ans = np.zeros(self.dim + 1)\n",
    "        ans[0] = self.w0\n",
    "        for i in range(self.dim):\n",
    "            ans[i + 1] = self.w[i]\n",
    "        return ans\n"
   ]
  },
  {
   "cell_type": "markdown",
   "metadata": {},
   "source": [
    "## Проверка на синтетических данных (1 балл)"
   ]
  },
  {
   "cell_type": "markdown",
   "metadata": {},
   "source": [
    "Запустите ваш алгоритм на синтетических данных. \n",
    "Выведите полученные веса и нарисуйте разделяющую границу между классами."
   ]
  },
  {
   "cell_type": "code",
   "execution_count": 47,
   "metadata": {},
   "outputs": [
    {
     "name": "stdout",
     "output_type": "stream",
     "text": [
      "Weights =  [ 0.00120046 -0.00316388  0.00164194] \n",
      "\n"
     ]
    },
    {
     "data": {
      "image/png": "[encoded data removed]",
      "text/plain": [
       "<matplotlib.figure.Figure at 0x7efbbe7d2d90>"
      ]
     },
     "metadata": {},
     "output_type": "display_data"
    }
   ],
   "source": [
    "np.random.seed(0)\n",
    "\n",
    "C1 = np.array([[0., -0.8], [1.5, 0.8]])\n",
    "C2 = np.array([[1., -0.7], [2., 0.7]])\n",
    "gauss1 = np.dot(np.random.randn(200, 2) + np.array([5, 3]), C1)\n",
    "gauss2 = np.dot(np.random.randn(200, 2) + np.array([1.5, 0]), C2)\n",
    "\n",
    "X = np.vstack([gauss1, gauss2])\n",
    "y = np.r_[np.ones(200), np.zeros(200)]\n",
    "\n",
    "plt.scatter(X[:,0], X[:,1], c=y)\n",
    "cl = MySGDClassifier(5, 0.005, 100)\n",
    "cl.fit(X, y)\n",
    "w = cl.give_weights()\n",
    "\n",
    "print \"Weights = \", w, \"\\n\"\n",
    "\n",
    "a = -1\n",
    "b = 1\n",
    "c = -(w[0] + w[1] * a) / w[2]\n",
    "d = -(w[0] + w[1] * b) / w[2]\n",
    "plt.plot([a, b], [c, d])\n",
    "plt.show()"
   ]
  },
  {
   "cell_type": "code",
   "execution_count": null,
   "metadata": {},
   "outputs": [],
   "source": []
  },
  {
   "cell_type": "code",
   "execution_count": null,
   "metadata": {},
   "outputs": [],
   "source": []
  },
  {
   "cell_type": "markdown",
   "metadata": {},
   "source": [
    "## Анализ сходимости (2 балла)"
   ]
  },
  {
   "cell_type": "markdown",
   "metadata": {},
   "source": [
    "Для следующих заданий используйте датасет ниже"
   ]
  },
  {
   "cell_type": "code",
   "execution_count": 12,
   "metadata": {},
   "outputs": [],
   "source": [
    "from sklearn.datasets import make_classification"
   ]
  },
  {
   "cell_type": "code",
   "execution_count": 57,
   "metadata": {},
   "outputs": [],
   "source": [
    "X, y = make_classification(n_samples=100000, n_features=10, \n",
    "                           n_informative=4, n_redundant=0, \n",
    "                           random_state=123, class_sep=1.0,\n",
    "                           n_clusters_per_class=1)"
   ]
  },
  {
   "cell_type": "markdown",
   "metadata": {},
   "source": [
    "Покажите сходимость вашего метода: изобразите графики зависимости значения функции потерь (по всей выборке) после очередной итерации/батча/эпохи (выбрать одно) для разных `alpha`."
   ]
  },
  {
   "cell_type": "code",
   "execution_count": 49,
   "metadata": {},
   "outputs": [
    {
     "data": {
      "text/plain": [
       "[<matplotlib.lines.Line2D at 0x7efbbd57c690>]"
      ]
     },
     "execution_count": 49,
     "metadata": {},
     "output_type": "execute_result"
    },
    {
     "data": {
      "image/png": "[encoded data removed]",
      "text/plain": [
       "<matplotlib.figure.Figure at 0x7efbbd3f0e50>"
      ]
     },
     "metadata": {},
     "output_type": "display_data"
    }
   ],
   "source": [
    "## Your Code Here\n",
    "a = np.arange(0.005, 0.1, 0.005)\n",
    "x = []\n",
    "for alpha in a:\n",
    "    cl = MySGDClassifier(4, alpha, 90)\n",
    "    cl.fit(X, y)\n",
    "    x.append(cl.give_looses())\n",
    "    \n",
    "plt.plot(a, x)\n"
   ]
  },
  {
   "cell_type": "markdown",
   "metadata": {},
   "source": [
    "## Эффект регуляризации (2 балла)\n",
    "\n",
    "Изобразите значения коэффициентов модели для каждого С из `np.logspace(3, -3, 10)` (желательно на одном и том же графике)"
   ]
  },
  {
   "cell_type": "code",
   "execution_count": 68,
   "metadata": {},
   "outputs": [],
   "source": [
    "## Your Code Here\n",
    "C = np.logspace(3, -3, 10)\n",
    "w = np.zeros((10, 11))\n",
    "\n",
    "for i, c in enumerate(C):\n",
    "    cl = MySGDClassifier(c, 0.01, 10)\n",
    "    cl.fit(X, y)\n",
    "    q = cl.give_weights()\n",
    "    w[i] = q\n",
    "    \n",
    "w = w.T"
   ]
  },
  {
   "cell_type": "code",
   "execution_count": 71,
   "metadata": {},
   "outputs": [
    {
     "data": {
      "image/png": "[encoded data removed]",
      "text/plain": [
       "<matplotlib.figure.Figure at 0x7efbbd3e45d0>"
      ]
     },
     "metadata": {},
     "output_type": "display_data"
    }
   ],
   "source": [
    "for j in range(11):\n",
    "    plt.plot(C, w[j], label=j)\n",
    "    \n",
    "plt.legend()\n",
    "plt.show()"
   ]
  },
  {
   "cell_type": "markdown",
   "metadata": {},
   "source": [
    "# Боевое применение"
   ]
  },
  {
   "cell_type": "markdown",
   "metadata": {},
   "source": [
    "## О hearthstone"
   ]
  },
  {
   "cell_type": "markdown",
   "metadata": {},
   "source": [
    "[Hearthstone](http://eu.battle.net/hearthstone/ru/) - карточная он-лайн игра по мотивам вселенной Warcraft.\n",
    "\n",
    "Каждый игрок играет за персонажа определенного класса и собирает колоду карт которую может разыгрывать во время игры. Для дальнейших деталей обратитесь к [wiki](https://ru.wikipedia.org/wiki/Hearthstone), посмотрите youtube или поиграйте сами (но не долго =) ).\n",
    "\n",
    "Теми или иными способами игрок может отнимать жизни у своего оппонента, таким образом цель раунда - побить другого игрока."
   ]
  },
  {
   "cell_type": "markdown",
   "metadata": {},
   "source": [
    "<center><img src='http://ps3hits.ru/wp-content/uploads/2015/08/hearthstone-game-sshot-1.jpg'></center>"
   ]
  },
  {
   "cell_type": "markdown",
   "metadata": {},
   "source": [
    "## Постановка задачи"
   ]
  },
  {
   "cell_type": "markdown",
   "metadata": {},
   "source": [
    "В рамках конференции [AAIA 17](https://fedcsis.org/2017/aaia) было запущено [соревнование](https://knowledgepit.fedcsis.org/contest/view.php?id=120) по предсказанию исхода раунда в heartstone. \n",
    "\n",
    "Используя признаки, которые описывают текущее состояние раунда необходимо предсказать **вероятность** победы игрока в этом раунде.\n",
    "\n",
    "Качество модели измеряется с помощью **ROC-AUC**"
   ]
  },
  {
   "cell_type": "markdown",
   "metadata": {},
   "source": [
    "## Данные\n",
    "\n",
    "Обучающую выборку и тестовую выборку с ответами можно скачать [отсюда](https://cloud.mail.ru/public/BEon/4Rrdqqvng)\n",
    "\n",
    "Данные содержат набор информации о раунде в некоторый момент времени: жизни игрока и оппонента, номер хода, карты на столе, карты в руке игрока, количество карт в руке оппонента и тп.<br/>\n",
    "По игроку №1 (далее просто **игрок**) помимо всего прочего известен набор карт \"в руке\".</br>\n",
    "По игроку №2 (далее просто **оппонент**) эта информация отсутствует.</br>\n",
    "\n",
    "\n",
    "В данных для обучению содержится 2 млн. игр, разбитых на 4 файла. Названия признаков говорят сами за себя.\n",
    "Целевой признак - `decision` (1 - победил игрок, 0 - победил оппонент)."
   ]
  },
  {
   "cell_type": "markdown",
   "metadata": {},
   "source": [
    "## Работа с простыми табличными данными (1 балл)\n",
    "\n",
    "По соображениям сокращения времени вычислений, проделаем основные шаги по одной части данных.\n",
    "\n",
    "Если все данные не будут помещаться вам с оперативную память, то можете использовать один из 4х файлов для обучения"
   ]
  },
  {
   "cell_type": "code",
   "execution_count": null,
   "metadata": {},
   "outputs": [],
   "source": [
    "# Загрузка данных целиком\n",
    "# df_list = []\n",
    "# for chunk in range(1,5):\n",
    "#     filepath = './trainingData_tabular_chunk%d.csv' % chunk\n",
    "#     df_list.append(pd.read_csv(filepath, sep=','))\n",
    "# df_data = pd.concat(df_list)\n",
    "\n",
    "# Загрузка одной части данных\n",
    "# filepath = './trainingData_tabular_chunk1.csv'\n",
    "# df_data = pd.read_csv(filepath, sep=',')"
   ]
  },
  {
   "cell_type": "code",
   "execution_count": null,
   "metadata": {},
   "outputs": [],
   "source": [
    "df_data.shape"
   ]
  },
  {
   "cell_type": "code",
   "execution_count": null,
   "metadata": {},
   "outputs": [],
   "source": [
    "# для удобства\n",
    "df_data.columns = df_data.columns.str.replace('.', '_')\n",
    "df_data = df_data.set_index('gamestate_id')"
   ]
  },
  {
   "cell_type": "code",
   "execution_count": null,
   "metadata": {},
   "outputs": [],
   "source": [
    "df_data.head().T"
   ]
  },
  {
   "cell_type": "code",
   "execution_count": null,
   "metadata": {},
   "outputs": [],
   "source": [
    "# Распределение классов\n",
    "df_data.decision.mean()\n",
    "\n",
    "# Примерно поровну"
   ]
  },
  {
   "cell_type": "markdown",
   "metadata": {},
   "source": [
    "#### Задание\n",
    "\n",
    "* Определите количество уникальных карт героя у игрока и оппонента.\n",
    "* Преобразуйте категориальные переменные с помощью one-hot кодирования, добавьте к датасету и удалите прежние столбцы\n"
   ]
  },
  {
   "cell_type": "code",
   "execution_count": null,
   "metadata": {},
   "outputs": [],
   "source": [
    "## Youd Code Here"
   ]
  },
  {
   "cell_type": "markdown",
   "metadata": {},
   "source": [
    "## Обучение модели (1 балл)"
   ]
  },
  {
   "cell_type": "markdown",
   "metadata": {},
   "source": [
    "#### Задание\n",
    "\n",
    "* Получите матрицу объект признак `X` и вектор целевого признака `y`\n",
    "* Создайте Pipeline из `StandartScaller` и вашей модели\n",
    "* Обучите модель (подбирать гиперпараметры можно без фанатизма)"
   ]
  },
  {
   "cell_type": "code",
   "execution_count": null,
   "metadata": {},
   "outputs": [],
   "source": [
    "## Youd Code Here"
   ]
  },
  {
   "cell_type": "markdown",
   "metadata": {},
   "source": [
    "## Применение модели (2 балла)\n",
    "#### Задание\n",
    "* Загрузите тестовые данные\n",
    "* Подготовте их к подаче на вход в алгоритм\n",
    "* Примените модель оцените качество с помощью меры ROC-AUC\n"
   ]
  },
  {
   "cell_type": "code",
   "execution_count": null,
   "metadata": {},
   "outputs": [],
   "source": [
    "## Youd Code Here"
   ]
  }
 ],
 "metadata": {
  "anaconda-cloud": {},
  "kernelspec": {
   "display_name": "Python 3",
   "language": "python",
   "name": "python3"
  },
  "language_info": {
   "codemirror_mode": {
    "name": "ipython",
    "version": 3
   },
   "file_extension": ".py",
   "mimetype": "text/x-python",
   "name": "python",
   "nbconvert_exporter": "python",
   "pygments_lexer": "ipython3",
   "version": "3.6.4"
  },
  "nav_menu": {},
  "toc": {
   "colors": {
    "hover_highlight": "#DAA520",
    "navigate_num": "#000000",
    "navigate_text": "#333333",
    "running_highlight": "#FF0000",
    "selected_highlight": "#FFD700",
    "sidebar_border": "#EEEEEE",
    "wrapper_background": "#FFFFFF"
   },
   "moveMenuLeft": true,
   "nav_menu": {
    "height": "402px",
    "width": "253px"
   },
   "navigate_menu": true,
   "number_sections": false,
   "sideBar": true,
   "threshold": 4,
   "toc_cell": false,
   "toc_section_display": "block",
   "toc_window_display": true,
   "widenNotebook": false
  }
 },
 "nbformat": 4,
 "nbformat_minor": 2
}
